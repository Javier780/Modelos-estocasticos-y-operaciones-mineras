{
 "cells": [
  {
   "cell_type": "markdown",
   "id": "2cd0e981-92a0-4de9-a3cd-95d606fd3337",
   "metadata": {},
   "source": [
    "# Introducción a Python para Minería\n",
    "## - Operadores (suma, resta, comparación, etc)\n",
    "## - Estructuras de control (condiciones y repeticiones)\n",
    "## - Funciones (bloques de código)"
   ]
  },
  {
   "cell_type": "markdown",
   "id": "fbf5802c-9409-4418-bf78-47f3b7e8b590",
   "metadata": {},
   "source": [
    "## 1. Operadores básicos"
   ]
  },
  {
   "cell_type": "markdown",
   "id": "f9c3bc50-ca1b-4168-a66b-6db37b4817a1",
   "metadata": {},
   "source": [
    "### 1.1. Operadores aritméticos\n",
    "##### Los operadores permiten hacer cálculos matemáticos. Aquí usamos dos variables `a` y `b`."
   ]
  },
  {
   "cell_type": "code",
   "execution_count": 1,
   "id": "45c207ec-0e49-4ede-a58f-6688bba97aa8",
   "metadata": {},
   "outputs": [
    {
     "name": "stdout",
     "output_type": "stream",
     "text": [
      "Suma: 150\n",
      "Resta: 50\n",
      "Multiplicación: 5000\n",
      "División: 2.0\n",
      "División entera: 2\n",
      "Módulo: 0\n",
      "Potencia: 10000000000000000000000000000000000000000000000000000000000000000000000000000000000000000000000000000\n"
     ]
    }
   ],
   "source": [
    "# Definimos dos valores\n",
    "a = 100\n",
    "b = 50\n",
    "\n",
    "# Ahora mostramos operaciones básicas\n",
    "print(\"Suma:\", a + b)            \n",
    "print(\"Resta:\", a - b)           \n",
    "print(\"Multiplicación:\", a * b)  \n",
    "print(\"División:\", a / b)        \n",
    "print(\"División entera:\", a // b)# Resultado sin decimales\n",
    "print(\"Módulo:\", a % b)          # Residuo\n",
    "print(\"Potencia:\", a ** b)       # 50 elevado a 30\n"
   ]
  },
  {
   "cell_type": "markdown",
   "id": "187e10d9-9058-427a-8992-e30cb993a8fb",
   "metadata": {},
   "source": [
    "### 1.2. Operadores de comparación\n",
    "##### Estos comparan dos valores y responden con `True` (Verdadero) o `False` (Falso)."
   ]
  },
  {
   "cell_type": "code",
   "execution_count": 2,
   "id": "ba20018b-596c-45a9-a905-a946af7fcfd7",
   "metadata": {},
   "outputs": [
    {
     "name": "stdout",
     "output_type": "stream",
     "text": [
      "¿x es igual a y? False\n",
      "¿x es distinto de y? True\n",
      "¿x es menor que y? True\n"
     ]
    }
   ],
   "source": [
    "x = 5\n",
    "y = 8\n",
    "\n",
    "print(\"¿x es igual a y?\", x == y)\n",
    "print(\"¿x es distinto de y?\", x != y)\n",
    "print(\"¿x es menor que y?\", x < y)\n"
   ]
  },
  {
   "cell_type": "markdown",
   "id": "bacdf1f6-d01f-4766-8516-d54335c9f606",
   "metadata": {},
   "source": [
    "### 1.3. Operadores lógicos\n",
    "##### Permiten combinar condiciones.\n",
    "##### - `and` (y): solo es verdadero si ambas condiciones lo son.\n",
    "##### - `or` (o): es verdadero si al menos una lo es.\n",
    "##### - `not` (no): invierte el resultado."
   ]
  },
  {
   "cell_type": "code",
   "execution_count": 3,
   "id": "6fea02c2-5556-41e1-9fff-8ef839bf4563",
   "metadata": {},
   "outputs": [
    {
     "name": "stdout",
     "output_type": "stream",
     "text": [
      "True and False: False\n",
      "True or False: True\n",
      "not True: False\n"
     ]
    }
   ],
   "source": [
    "print(\"True and False:\", True and False)  # Solo da True si ambos son True\n",
    "print(\"True or False:\", True or False)    # Da True si al menos uno es True\n",
    "print(\"not True:\", not True)              # Invierte → False\n"
   ]
  },
  {
   "cell_type": "markdown",
   "id": "0d6c654f-20b6-41ad-8695-8e03161ab307",
   "metadata": {},
   "source": [
    "## 2. Estructuras de control"
   ]
  },
  {
   "cell_type": "markdown",
   "id": "eb4d515c-f060-44b2-a577-0b57867e74e6",
   "metadata": {},
   "source": [
    "### 2.1. Condicionales\n",
    "##### Usamos esto cuando queremos hacer algo **solo si** una condición se cumple."
   ]
  },
  {
   "cell_type": "code",
   "execution_count": 4,
   "id": "b2cc221e-50b6-49d2-80fe-527fc60d9960",
   "metadata": {},
   "outputs": [
    {
     "name": "stdout",
     "output_type": "stream",
     "text": [
      "Alta producción\n"
     ]
    }
   ],
   "source": [
    "peso_mineral = 1200  # toneladas extraídas\n",
    "\n",
    "if peso_mineral > 1000:\n",
    "    print(\"Alta producción\")\n",
    "elif peso_mineral > 500:\n",
    "    print(\"Producción media\")\n",
    "else:\n",
    "    print(\"Producción baja\")\n"
   ]
  },
  {
   "cell_type": "markdown",
   "id": "45d0f4aa-b226-420a-9338-ddd925dee732",
   "metadata": {},
   "source": [
    "### 2.2. Bucle \"for\"\n",
    "##### Sirve para repetir una acción una cierta cantidad de veces."
   ]
  },
  {
   "cell_type": "code",
   "execution_count": 7,
   "id": "aec8d552-b283-495c-9cd0-381fddce43c9",
   "metadata": {},
   "outputs": [
    {
     "name": "stdout",
     "output_type": "stream",
     "text": [
      "Camión descargado número: 1\n",
      "Camión descargado número: 2\n",
      "Camión descargado número: 3\n",
      "Camión descargado número: 4\n"
     ]
    }
   ],
   "source": [
    "for i in range(4):\n",
    "    print(\"Camión descargado número:\", i + 1)\n"
   ]
  },
  {
   "cell_type": "markdown",
   "id": "882d2fb6-cf81-41c2-b3d6-50170751fc0b",
   "metadata": {},
   "source": [
    "### 2.3. Bucle \"while\"\n",
    "##### Repite mientras se cumpla una condición."
   ]
  },
  {
   "cell_type": "code",
   "execution_count": 15,
   "id": "824b5a02-a725-484f-bfe1-a461248290fc",
   "metadata": {},
   "outputs": [
    {
     "name": "stdout",
     "output_type": "stream",
     "text": [
      "Transportando material...\n",
      "Transportando material...\n"
     ]
    }
   ],
   "source": [
    "i = 1\n",
    "while i < 3:\n",
    "    print(\"Transportando material...\")\n",
    "    i += 1\n"
   ]
  },
  {
   "cell_type": "markdown",
   "id": "46a4f56b-522c-49ad-8177-c189714ada71",
   "metadata": {},
   "source": [
    "## 3. Funciones\n",
    "##### Una función es un bloque de código que se puede reutilizar. Sirve para organizar tareas.\n",
    "##### Ejemplo: Calcular volumen de una pila de material"
   ]
  },
  {
   "cell_type": "code",
   "execution_count": 16,
   "id": "8055b4c1-4629-4628-9f20-693659062dc0",
   "metadata": {},
   "outputs": [
    {
     "name": "stdout",
     "output_type": "stream",
     "text": [
      "Volumen de la pila: 150 m³\n"
     ]
    }
   ],
   "source": [
    "def calcular_volumen(largo, ancho, alto):\n",
    "    \"\"\"Calcula el volumen de una pila en m³\"\"\"\n",
    "    return largo * ancho * alto\n",
    "\n",
    "# Usamos la función\n",
    "v = calcular_volumen(10, 5, 3)\n",
    "print(\"Volumen de la pila:\", v, \"m³\")\n"
   ]
  },
  {
   "cell_type": "markdown",
   "id": "01062a21-b082-4efd-86f1-2fed184fc52f",
   "metadata": {},
   "source": [
    "### 3.1. Función con lógica dentro\n",
    "##### Ahora una función que clasifica el tamaño del P80 (fragmentación):"
   ]
  },
  {
   "cell_type": "code",
   "execution_count": 17,
   "id": "c7045961-1a62-4cc6-ae3d-96fa71e5ca35",
   "metadata": {},
   "outputs": [
    {
     "name": "stdout",
     "output_type": "stream",
     "text": [
      "Clasificación: Aceptable\n"
     ]
    }
   ],
   "source": [
    "def clasificar_fragmentacion(p80):\n",
    "    if p80 <= 20:\n",
    "        return \"Óptima\"\n",
    "    elif p80 <= 30:\n",
    "        return \"Aceptable\"\n",
    "    else:\n",
    "        return \"Deficiente\"\n",
    "\n",
    "print(\"Clasificación:\", clasificar_fragmentacion(28))\n"
   ]
  },
  {
   "cell_type": "markdown",
   "id": "3994dace-9418-4649-ba11-5bfea783660b",
   "metadata": {},
   "source": [
    "## 4. Ejemplo aplicado en minería\n",
    "##### Dado el volumen y peso de una pila de rocas fragmentadas, estimar el P80 (tamaño de partícula) y clasificar la eficiencia de la voladura como:\n",
    "##### Óptima → P80 ≤ 20 cm\n",
    "\n",
    "##### Aceptable → 20 < P80 ≤ 30 cm\n",
    "\n",
    "##### Deficiente → P80 > 30 cm"
   ]
  },
  {
   "cell_type": "code",
   "execution_count": 20,
   "id": "2416d377-be4a-41f0-8fdb-76b322e9a8f4",
   "metadata": {},
   "outputs": [
    {
     "name": "stdout",
     "output_type": "stream",
     "text": [
      "Volumen de la pila: 1575 m³\n",
      "Densidad estimada: 2.6 t/m³\n",
      "P80 estimado: 38.46 cm\n",
      "Clasificación de la fragmentación: Deficiente\n"
     ]
    }
   ],
   "source": [
    "# Paso 1: Definir los datos de entrada\n",
    "largo = 15  # m\n",
    "ancho = 15   # m\n",
    "alto = 7    # m\n",
    "peso_total = 4095  #  Volumen * densidad \n",
    "\n",
    "# Paso 2: Calcular el volumen de la pila de roca\n",
    "# Volumen = Largo × Ancho × Alto\n",
    "volumen = largo * ancho * alto\n",
    "\n",
    "# Paso 3: Estimar la densidad\n",
    "# Densidad = Peso / Volumen\n",
    "densidad = peso_total / volumen  # t/m³\n",
    "\n",
    "# Paso 4: Estimar el P80 usando una fórmula simplificada\n",
    "# Asumimos que P80 (en cm) es inversamente proporcional a la densidad\n",
    "p80 = 100 / densidad  # simplificación educativa\n",
    "\n",
    "# Paso 5: Clasificar la fragmentación usando estructuras de control\n",
    "if p80 <= 20:\n",
    "    clasificacion = \"Óptima\"\n",
    "elif p80 <= 30:\n",
    "    clasificacion = \"Aceptable\"\n",
    "else:\n",
    "    clasificacion = \"Deficiente\"\n",
    "\n",
    "print(\"Volumen de la pila:\", volumen, \"m³\")\n",
    "print(\"Densidad estimada:\", round(densidad, 2), \"t/m³\")\n",
    "print(\"P80 estimado:\", round(p80, 2), \"cm\")\n",
    "print(\"Clasificación de la fragmentación:\", clasificacion)\n",
    "\n"
   ]
  },
  {
   "cell_type": "code",
   "execution_count": 22,
   "id": "ca0da449-62b8-415f-b241-39b5606dd905",
   "metadata": {},
   "outputs": [
    {
     "name": "stdout",
     "output_type": "stream",
     "text": [
      "Volumen: 1575 m³\n",
      "Densidad: 2.6 t/m³\n",
      "P80 estimado: 38.46 cm\n",
      "Clasificación: Deficiente\n"
     ]
    }
   ],
   "source": [
    "# Definimos una función que encapsula toda la lógica anterior\n",
    "\n",
    "def evaluar_fragmentacion(largo, ancho, alto, peso_total):\n",
    "    volumen = largo * ancho * alto\n",
    "    densidad = peso_total / volumen\n",
    "    p80 = 100 / densidad\n",
    "\n",
    "    if p80 <= 20:\n",
    "        clasificacion = \"Óptima\"\n",
    "    elif p80 <= 30:\n",
    "        clasificacion = \"Aceptable\"\n",
    "    else:\n",
    "        clasificacion = \"Deficiente\"\n",
    "\n",
    "    return volumen, densidad, p80, clasificacion\n",
    "\n",
    "# Ejemplo de uso\n",
    "v, d, p80_estimado, estado = evaluar_fragmentacion(15, 15, 7, 4095)\n",
    "\n",
    "print(\"Volumen:\", v, \"m³\")\n",
    "print(\"Densidad:\", round(d, 2), \"t/m³\")\n",
    "print(\"P80 estimado:\", round(p80_estimado, 2), \"cm\")\n",
    "print(\"Clasificación:\", estado)\n"
   ]
  },
  {
   "cell_type": "markdown",
   "id": "af012731-0f29-4f12-ad33-f84185c1784d",
   "metadata": {},
   "source": [
    "# GRACIAS"
   ]
  }
 ],
 "metadata": {
  "kernelspec": {
   "display_name": "Python [conda env:CURSO]",
   "language": "python",
   "name": "conda-env-CURSO-py"
  },
  "language_info": {
   "codemirror_mode": {
    "name": "ipython",
    "version": 3
   },
   "file_extension": ".py",
   "mimetype": "text/x-python",
   "name": "python",
   "nbconvert_exporter": "python",
   "pygments_lexer": "ipython3",
   "version": "3.11.13"
  }
 },
 "nbformat": 4,
 "nbformat_minor": 5
}
